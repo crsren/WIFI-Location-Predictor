{
 "cells": [
  {
   "cell_type": "code",
   "execution_count": 3,
   "metadata": {},
   "outputs": [],
   "source": [
    "import numpy as np"
   ]
  },
  {
   "cell_type": "code",
   "execution_count": 4,
   "metadata": {},
   "outputs": [],
   "source": [
    "clean_ds = np.loadtxt(\"wifi_db/clean_dataset.txt\")\n",
    "noisy_ds = np.loadtxt(\"wifi_db/noisy_dataset.txt\")"
   ]
  },
  {
   "cell_type": "code",
   "execution_count": 6,
   "metadata": {},
   "outputs": [
    {
     "output_type": "stream",
     "name": "stdout",
     "text": [
      "[[-59. -53. -51. ... -79. -87.   4.]\n [-66. -53. -59. ... -81. -79.   1.]\n [-41. -57. -63. ... -66. -65.   2.]\n ...\n [-57. -54. -56. ... -79. -82.   1.]\n [-56. -52. -50. ... -85. -88.   3.]\n [-46. -54. -47. ... -80. -73.   3.]]\n[[-64. -56. -61. ... -82. -81.   1.]\n [-68. -57. -61. ... -85. -85.   1.]\n [-63. -60. -60. ... -85. -84.   1.]\n ...\n [-62. -59. -46. ... -87. -88.   4.]\n [-62. -58. -52. ... -90. -85.   4.]\n [-59. -50. -45. ... -88. -87.   4.]]\n"
     ]
    }
   ],
   "source": [
    "print(noisy_ds)\n",
    "print(clean_ds)"
   ]
  },
  {
   "cell_type": "code",
   "execution_count": null,
   "metadata": {},
   "outputs": [],
   "source": [
    "def decision_tree_learning(ds, depth):\n",
    "    if()"
   ]
  }
 ],
 "metadata": {
  "kernelspec": {
   "display_name": "Python 3",
   "language": "python",
   "name": "python3"
  },
  "language_info": {
   "codemirror_mode": {
    "name": "ipython",
    "version": 3
   },
   "file_extension": ".py",
   "mimetype": "text/x-python",
   "name": "python",
   "nbconvert_exporter": "python",
   "pygments_lexer": "ipython3",
   "version": "3.8.3-final"
  }
 },
 "nbformat": 4,
 "nbformat_minor": 2
}